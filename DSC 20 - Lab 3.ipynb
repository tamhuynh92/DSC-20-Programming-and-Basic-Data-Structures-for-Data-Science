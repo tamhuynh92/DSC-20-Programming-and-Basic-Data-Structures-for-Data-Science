{
 "cells": [
  {
   "cell_type": "markdown",
   "metadata": {},
   "source": [
    "__Q1: WWPD: Lambda the Free__\n",
    "Use Ok to test your knowledge with the following \"What Would Python Display?\" questions:\n",
    "<br>\n",
    "python3 ok -q lambda -u<br>\n",
    "Hint: Remember for all WWPD questions, input Function if you believe the answer is <function...>, Error if it errors, and <br>Nothing if nothing is displayed.<br>\n",
    "\n"
   ]
  },
  {
   "cell_type": "code",
   "execution_count": 4,
   "metadata": {},
   "outputs": [
    {
     "data": {
      "text/plain": [
       "<function __main__.<lambda>>"
      ]
     },
     "execution_count": 4,
     "metadata": {},
     "output_type": "execute_result"
    }
   ],
   "source": [
    "lambda x:x"
   ]
  },
  {
   "cell_type": "code",
   "execution_count": null,
   "metadata": {},
   "outputs": [],
   "source": [
    "b = lambda: 3\n",
    "b()"
   ]
  },
  {
   "cell_type": "code",
   "execution_count": 2,
   "metadata": {},
   "outputs": [
    {
     "data": {
      "text/plain": [
       "<function __main__.<lambda>.<locals>.<lambda>>"
      ]
     },
     "execution_count": 2,
     "metadata": {},
     "output_type": "execute_result"
    }
   ],
   "source": [
    "c = lambda x: lambda: print('123')\n",
    "c(88)"
   ]
  },
  {
   "cell_type": "code",
   "execution_count": 3,
   "metadata": {},
   "outputs": [
    {
     "name": "stdout",
     "output_type": "stream",
     "text": [
      "123\n"
     ]
    }
   ],
   "source": [
    "c(88)()"
   ]
  },
  {
   "cell_type": "code",
   "execution_count": 5,
   "metadata": {},
   "outputs": [
    {
     "data": {
      "text/plain": [
       "16"
      ]
     },
     "execution_count": 5,
     "metadata": {},
     "output_type": "execute_result"
    }
   ],
   "source": [
    "d = lambda f: f(4)\n",
    "def square(x):\n",
    "    return x*x\n",
    "d(square)"
   ]
  },
  {
   "cell_type": "code",
   "execution_count": 6,
   "metadata": {},
   "outputs": [
    {
     "data": {
      "text/plain": [
       "3"
      ]
     },
     "execution_count": 6,
     "metadata": {},
     "output_type": "execute_result"
    }
   ],
   "source": [
    "t = lambda f: lambda x: f(f(f(x)))\n",
    "s = lambda x: x  + 1\n",
    "t(s)(0)"
   ]
  },
  {
   "cell_type": "code",
   "execution_count": 7,
   "metadata": {},
   "outputs": [
    {
     "ename": "TypeError",
     "evalue": "<lambda>() missing 1 required positional argument: 'y'",
     "output_type": "error",
     "traceback": [
      "\u001b[0;31m---------------------------------------------------------------------------\u001b[0m",
      "\u001b[0;31mTypeError\u001b[0m                                 Traceback (most recent call last)",
      "\u001b[0;32m<ipython-input-7-40a2086d5d59>\u001b[0m in \u001b[0;36m<module>\u001b[0;34m()\u001b[0m\n\u001b[1;32m      1\u001b[0m \u001b[0mbar\u001b[0m \u001b[0;34m=\u001b[0m \u001b[0;32mlambda\u001b[0m \u001b[0my\u001b[0m\u001b[0;34m:\u001b[0m \u001b[0;32mlambda\u001b[0m \u001b[0mx\u001b[0m\u001b[0;34m:\u001b[0m \u001b[0mpow\u001b[0m\u001b[0;34m(\u001b[0m\u001b[0mx\u001b[0m\u001b[0;34m,\u001b[0m \u001b[0my\u001b[0m\u001b[0;34m)\u001b[0m\u001b[0;34m\u001b[0m\u001b[0m\n\u001b[0;32m----> 2\u001b[0;31m \u001b[0mbar\u001b[0m\u001b[0;34m(\u001b[0m\u001b[0;34m)\u001b[0m\u001b[0;34m(\u001b[0m\u001b[0;36m15\u001b[0m\u001b[0;34m)\u001b[0m\u001b[0;34m\u001b[0m\u001b[0m\n\u001b[0m",
      "\u001b[0;31mTypeError\u001b[0m: <lambda>() missing 1 required positional argument: 'y'"
     ]
    }
   ],
   "source": [
    "bar = lambda y: lambda x: pow(x, y)\n",
    "bar()(15)"
   ]
  },
  {
   "cell_type": "code",
   "execution_count": 10,
   "metadata": {},
   "outputs": [
    {
     "data": {
      "text/plain": [
       "2"
      ]
     },
     "execution_count": 10,
     "metadata": {},
     "output_type": "execute_result"
    }
   ],
   "source": [
    "bar = lambda y: lambda x: pow(x, y)\n",
    "foo = lambda: 32\n",
    "foobar = lambda x, y: x // y\n",
    "a = lambda x: foobar(foo(), bar(4)(x))\n",
    "a(2)"
   ]
  },
  {
   "cell_type": "markdown",
   "metadata": {},
   "source": [
    "__Q3: In summation__ <br>\n",
    "Write the recursive version of function summation, which takes two arguments, a number n and a function term, applies term to every number between 1 and n (inclusive), and returns the sum of those results. Solutions must involve recursion. Solutions with loops will get a 0. "
   ]
  },
  {
   "cell_type": "code",
   "execution_count": 23,
   "metadata": {},
   "outputs": [],
   "source": [
    "from functools import reduce\n",
    "double = lambda x: 2*x\n",
    "cube = lambda x: x **3\n",
    "\n",
    "def summation(n, term):\n",
    "    sum = reduce(lambda x, y: x + term(y), range(0,n+1))\n",
    "    return sum    \n",
    "    \n",
    "double_all = summation(3, double)\n",
    "assert double_all == 12\n",
    "\n",
    "double_all = summation(0, double)\n",
    "assert double_all == 0\n",
    "\n",
    "double_all = summation(12, double)\n",
    "assert double_all == 156\n",
    "\n",
    "cube_all = summation(5, cube)\n",
    "assert cube_all == 225"
   ]
  },
  {
   "cell_type": "code",
   "execution_count": 13,
   "metadata": {},
   "outputs": [
    {
     "data": {
      "text/plain": [
       "113"
      ]
     },
     "execution_count": 13,
     "metadata": {},
     "output_type": "execute_result"
    }
   ],
   "source": [
    "from functools import reduce\n",
    "reduce(lambda x,y: x+y, [47,11,42,13])"
   ]
  },
  {
   "cell_type": "markdown",
   "metadata": {},
   "source": [
    "__Q4: Hailstone__<br>\n",
    "\n",
    "Douglas Hofstadter's Pulitzer-prize-winning book, Gödel, Escher, Bach, poses the following mathematical puzzle.\n",
    "<br>\n",
    "1. Pick a positive integer n as the start.<br>\n",
    "2. If n is even, divide it by 2.<br>\n",
    "3. If n is odd, multiply it by 3 and add 1. <br>\n",
    "4. Continue this process until n is 1. <br>\n",
    "\n",
    "The number n will travel up and down but eventually end at 1 (at least for all numbers that have ever been tried -- nobody has ever proved that the sequence will terminate). Analogously, a hailstone travels up and down in the atmosphere before eventually landing on earth.<br>\n",
    "\n",
    "\n",
    "This sequence of values of n is often called a Hailstone sequence.<br>\n",
    "\n",
    "Write a recursive version of hailstone that prints out the values of the sequence and returns the number of steps.\n"
   ]
  },
  {
   "cell_type": "code",
   "execution_count": 45,
   "metadata": {},
   "outputs": [],
   "source": [
    "def hailstone(n):\n",
    "    count = 1\n",
    "    while n != 1:\n",
    "        #print(n)\n",
    "        n = n //2 if n % 2 == 0 else 3 * n + 1\n",
    "        count += 1\n",
    "    #print(n)                \n",
    "    return count\n",
    "\n",
    "assert hailstone(10) == 7\n",
    "assert hailstone(1) == 1"
   ]
  },
  {
   "cell_type": "markdown",
   "metadata": {},
   "source": [
    "__Q5: English Dictionary__ <br>\n",
    "One day you were interested in comparing the number of words in different languages. Google brought you to Wikipedia: Link to the article.  The article claims that the Korean language has the most number of words in its dictionary (over 1 million), and the English language is #13 on the list. You decided to change that and move English to the top 10. \n",
    "\n",
    "<br>\n",
    "\n",
    "In order to do that, you need to write a function englishDictionary(letters, n) that creates a new word by concatenating elements from list letters, starting from letters[i] through letters[i+n], but only if letters[i] does not start with either “x” or “z”.  In this case, new word is “empty”. If there are not enough elements because we reach the end of the list, we concatenate only as many elements as we have. \n",
    "\n",
    "<br>\n",
    "\n",
    "For example, suppose your list is\n",
    "<br>\n",
    " letters = {\"ma\", \"le\", \"zo\", \"sh\", \"tip\", \"pa\"}, and n = 3. \n",
    "<br>\n",
    "In this case:\n",
    "<br>\n",
    "- Join  letters[0] + letters[1] + letters[2] + letters[3].\n",
    "<br>\n",
    "- Join letters[1] + letters[2] + letters[3] + letters[4].\n",
    "<br>\n",
    "- “empty” is created because letters[2] starts with a ‘z’.\n",
    "<br>\n",
    "- Join letters[3] + letters[4] + letters[5].\n",
    "<br>\n",
    "- Join letters[4] + letters[5].\n",
    "<br>\n",
    "- letters[5]. You do not need to join anything to letters[5] because there are no values after letters[5].\n",
    "<br>\n",
    "\n",
    "Thus, the result is:   {malezosh, lezoshtip, empty, shtippa, tippa, pa}\n",
    "\n",
    "\n",
    "\n",
    "<br>\n",
    "\n",
    "The meaning of the word will also be created by concatenating the same elements, but backwards. \"empty\" doesn't have a meaning. For example, if you have used [\"ma\", \"le\", \"zo\"] to create a new word \"malezo\", then the meaning of it would be \"oz el am\".  \n",
    "\n",
    "<br>\n",
    "\n",
    "Each new word and its corresponding meaning should be stored as a pair of key and value in the new dictionary which will be returned at the end. "
   ]
  },
  {
   "cell_type": "code",
   "execution_count": 11,
   "metadata": {},
   "outputs": [
    {
     "name": "stdout",
     "output_type": "stream",
     "text": [
      "{'malezosh': 'hs oz el am', 'lezoshtip': 'pit hs oz el', 'empty': '', 'shtippa': 'ap pit hs', 'tippa': 'ap pit', 'pa': 'ap'}\n",
      "{'empty': '', 'yumlolypop': 'popy lol muy', 'lolypop': 'popy lol', 'ypop': 'popy'}\n"
     ]
    }
   ],
   "source": [
    "def englishDictionary(letters,n):\n",
    "    dict={}  \n",
    "    dictkey='' \n",
    "    dictelem=''\n",
    "    for i in range(len(letters)): \n",
    "        for j in range(n+1):\n",
    "            if (i + j < len(letters)): \n",
    "                dictkey += letters[i+j]\n",
    "                dictelem = dictelem + \" \" + letters[i+j]\n",
    "\n",
    "        if (dictelem.strip()[:1] == 'x' or dictelem.strip()[:1] == 'z'):\n",
    "            dictkey  = \"empty\"\n",
    "            dictelem = \"\"\n",
    "        else:\n",
    "            dictkey=dictkey\n",
    "            \n",
    "        dict[dictkey]=dictelem[::-1].strip()\n",
    "        dictkey=\"\"\n",
    "        dictelem=\"\"\n",
    "\n",
    "    return dict\n",
    "    \n",
    "letters = [\"ma\", \"le\", \"zo\", \"sh\", \"tip\", \"pa\"]\n",
    "print(englishDictionary(letters, 3))\n",
    "\n",
    "words = [\"xoxo\", \"yum\" ,\"lol\", \"ypop\"]\n",
    "print(englishDictionary(words, 2))"
   ]
  },
  {
   "cell_type": "code",
   "execution_count": null,
   "metadata": {},
   "outputs": [],
   "source": []
  },
  {
   "cell_type": "code",
   "execution_count": null,
   "metadata": {},
   "outputs": [],
   "source": []
  }
 ],
 "metadata": {
  "kernelspec": {
   "display_name": "Python 3.6",
   "language": "python",
   "name": "python36"
  },
  "language_info": {
   "codemirror_mode": {
    "name": "ipython",
    "version": 3
   },
   "file_extension": ".py",
   "mimetype": "text/x-python",
   "name": "python",
   "nbconvert_exporter": "python",
   "pygments_lexer": "ipython3",
   "version": "3.6.3"
  }
 },
 "nbformat": 4,
 "nbformat_minor": 2
}
