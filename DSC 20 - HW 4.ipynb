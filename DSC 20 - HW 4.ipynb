{
 "cells": [
  {
   "cell_type": "markdown",
   "metadata": {
    "collapsed": true
   },
   "source": [
    "__Q1: Manhattan Distance__ <br>\n",
    "An intersection in midtown Manhattan can be identified by an avenue and a street, which are both indexed by positive integers. The Manhattan distance or taxicab distance between two intersections is the number of blocks that must be traversed to reach one from the other, ignoring one-way street restrictions and construction. \n",
    "<br><br>\n",
    "For example, Times Square is on 46th Street and 7th Avenue. Ess-a-Bagel is on 51st Street and 3rd Avenue. The taxicab distance between them is 9 blocks.<br><br>\n",
    "\n",
    "Implement manhattan_distance(), which computes the manhattan distance between two intersections using the following data abstraction. \n",
    "<br><br>\n",
    "Hint: You don't need to know what a Cantor pairing function is; just use the abstraction."
   ]
  },
  {
   "cell_type": "code",
   "execution_count": 9,
   "metadata": {},
   "outputs": [],
   "source": [
    "def intersection(st, ave):\n",
    "    \"\"\"Represent an intersection using the Cantor pairing function.\"\"\"\n",
    "    return (st + ave) * (st + ave + 1) // 2 + ave\n",
    "\n",
    "\n",
    "def street(inter):\n",
    "    return w(inter) - avenue(inter)\n",
    "\n",
    "\n",
    "def avenue(inter):\n",
    "    return inter - (w(inter) ** 2 + w(inter)) // 2\n",
    "\n",
    "\n",
    "w = lambda z: int(((8 * z + 1) ** 0.5 - 1) / 2)\n",
    "\n",
    "\n",
    "def manhattan(a, b):\n",
    "    st1, ave1 = street(a), avenue(a)\n",
    "    st2, ave2 = street(b), avenue(b)\n",
    "    return abs(st1 - st2) + abs(ave1 - ave2)\n",
    "\n",
    "\n",
    "\n",
    "times_square = intersection(46, 7)\n",
    "ess_a_bagel = intersection(51, 3)\n",
    "\n",
    "assert manhattan(times_square, ess_a_bagel) == 9\n",
    "assert manhattan(ess_a_bagel, times_square) == 9\n"
   ]
  },
  {
   "cell_type": "markdown",
   "metadata": {},
   "source": [
    "__Q2: Squares only__ <br>\n",
    "Implement the function squares(), which takes in a list of positive integers. It returns a list that contains the square roots of the elements of the original list that are perfect squares.\n",
    "<br>\n",
    "Try it using list comprehension.\n",
    "\n"
   ]
  },
  {
   "cell_type": "code",
   "execution_count": 14,
   "metadata": {},
   "outputs": [],
   "source": [
    "from math import sqrt\n",
    "\n",
    "def squares(s):\n",
    "    lst = []\n",
    "    for i in s:\n",
    "        if i == int(sqrt(i)) ** 2:\n",
    "            lst.append(int(sqrt(i)))\n",
    "    return lst\n",
    "   \n",
    "seq = [8, 49, 8, 9, 2, 1, 100, 102]\n",
    "assert squares(seq) == [7, 3, 1, 10]\n",
    "\n",
    "seq = [500, 30, 31]\n",
    "assert squares(seq) == []\n",
    "    "
   ]
  },
  {
   "cell_type": "markdown",
   "metadata": {},
   "source": [
    "__A mathematical function H on positive integers is defined by two cases:__\n",
    "<br>\n",
    "```\n",
    "H(n) = n, if n <= 3\n",
    "H(n) = H(n - 1) + 2 * H(n - 2) + 3 * H(n - 3), if n > 3\n",
    "```\n",
    "1. Write a recursive function h that computes H(n). \n",
    "<br>\n",
    "<br>\n",
    "\n",
    "2. Then, write an iterative function h_iter() that also computes H(n):"
   ]
  },
  {
   "cell_type": "code",
   "execution_count": 22,
   "metadata": {},
   "outputs": [],
   "source": [
    "def h(n):\n",
    "    if n <= 3:\n",
    "        return n\n",
    "    else:\n",
    "        return h(n-1) + 2*h(n-2) + 3*h(n-3)\n",
    "\n",
    "\n",
    "assert h(1) == 1\n",
    "assert h(2) == 2\n",
    "assert h(3) == 3\n",
    "assert h(4) == 10\n",
    "assert h(5) == 22\n",
    "\n",
    "def h_iter(n):\n",
    "    "
   ]
  },
  {
   "cell_type": "markdown",
   "metadata": {},
   "source": [
    "__Q4.1: Movies made between two years.__ <br>\n",
    "\n",
    "Using the titles.csv file as your database, create a function  called movies_made, that accepts two integers, beginning and end, and returns the number of movies that were created between those two years, inclusive."
   ]
  },
  {
   "cell_type": "code",
   "execution_count": 24,
   "metadata": {},
   "outputs": [],
   "source": [
    "import pandas as pd\n",
    "\n",
    "def movies_made(begin, end):\n",
    "    df = pd.read_csv('titles.csv')\n",
    "    count = 0\n",
    "    for i in range (len(df)):\n",
    "        if(begin <= df.iloc[i,1] <= end):\n",
    "            count += 1\n",
    "    return count\n",
    "\n",
    "assert movies_made(1900, 2016) == 209649\n",
    "\n",
    "    "
   ]
  },
  {
   "cell_type": "markdown",
   "metadata": {},
   "source": [
    "__Q4.2 \"Actor/Actress .....\" is a cool person.__\n",
    "<br>\n",
    "Using the cast.csv file as your database, create a function actor_appears that accepts a string input actor_name and returns the number of movies that that specific actor/actress acted in during their career.\n",
    "<br>\n",
    "    >>> actor_appears(\"John Wayne\")\n",
    "\n",
    "    179"
   ]
  },
  {
   "cell_type": "code",
   "execution_count": null,
   "metadata": {
    "scrolled": true
   },
   "outputs": [],
   "source": []
  },
  {
   "cell_type": "markdown",
   "metadata": {},
   "source": [
    "__Q5: Permute Change__\n",
    "Once the machines take over, the denomination of every coin will be a power of two: 1-cent, 2-cent, 4-cent, 8-cent, 16-cent, etc. There will be no limit to how much a coin can be worth. <br>\n",
    "\n",
    "A set of coins makes change for n if the sum of the values of the coins is n. For example, the following sets make change for 7:\n",
    "<br>\n",
    "7 1-cent coins<br>\n",
    "5 1-cent, 1 2-cent coins<br>\n",
    "3 1-cent, 2 2-cent coins<br>\n",
    "3 1-cent, 1 4-cent coins<br>\n",
    "1 1-cent, 3 2-cent coins<br>\n",
    "1 1-cent, 1 2-cent, 1 4-cent coins<br>\n",
    "Thus, there are 6 ways to make change for 7. Write a function permute_change() that takes a positive integer n and returns the number of ways to make change for n using these coins of the future:\n",
    "<br>\n",
    "Hint: you may find it helpful to refer to the implementation of count_partitions.<br>\n"
   ]
  },
  {
   "cell_type": "code",
   "execution_count": 55,
   "metadata": {},
   "outputs": [],
   "source": [
    "def permute_change(amount):\n",
    "    return count_using(1, amount)\n",
    "\n",
    "def count_using(min_coin, amount):\n",
    "    if amount < 0:\n",
    "        return 0\n",
    "    elif amount == 0:\n",
    "        return 1\n",
    "    elif min_coin > amount:\n",
    "        return 0\n",
    "    else:\n",
    "        with_min = count_using(min_coin, amount - min_coin)\n",
    "        without_min = count_using(2*min_coin, amount)\n",
    "        return with_min + without_min\n",
    "\n",
    "assert permute_change(7) == 6\n",
    "assert permute_change(10) == 14\n",
    "assert permute_change(20) == 60\n",
    "assert permute_change(100) == 9828"
   ]
  },
  {
   "cell_type": "markdown",
   "metadata": {},
   "source": [
    "__Q6: Primes__\n",
    "<br>\n",
    "Observe how we use a list comprehension to generate a list of non-primes given a range. Implement a function primes() which returns are a list of prime numbers. You should be able to do this in a single line, using list comprehension. Return the list of prime numbers."
   ]
  },
  {
   "cell_type": "code",
   "execution_count": 53,
   "metadata": {},
   "outputs": [
    {
     "name": "stdout",
     "output_type": "stream",
     "text": [
      "[2, 3, 5, 7, 11, 13, 17, 19, 23, 29, 31, 37, 41, 43, 47, 53, 59, 61, 67, 71, 73, 79, 83, 89, 97]\n"
     ]
    }
   ],
   "source": [
    "import math\n",
    "def primes (n) :\n",
    "    return [i for i in range(2,n) if 0 not in [i%j for j in range(2,i)]]\n",
    "\n",
    "print(primes(100))"
   ]
  },
  {
   "cell_type": "markdown",
   "metadata": {},
   "source": [
    "__Q7: Uppercase Message__\n",
    "\n",
    "Write a function uppercase_msg which takes a message as a string, and returns a list representation of the uppercase message."
   ]
  },
  {
   "cell_type": "code",
   "execution_count": 42,
   "metadata": {},
   "outputs": [],
   "source": [
    "def uppercase_msg(msg):\n",
    "    return  [x.upper() for x in msg.split()]\n",
    "\n",
    "assert uppercase_msg(\"i lovE tomatoes and peanuts\") == ['I', 'LOVE', 'TOMATOES', 'AND', 'PEANUTS']"
   ]
  },
  {
   "cell_type": "code",
   "execution_count": null,
   "metadata": {},
   "outputs": [],
   "source": []
  }
 ],
 "metadata": {
  "kernelspec": {
   "display_name": "Python 3.6",
   "language": "python",
   "name": "python36"
  }
 },
 "nbformat": 4,
 "nbformat_minor": 2
}
