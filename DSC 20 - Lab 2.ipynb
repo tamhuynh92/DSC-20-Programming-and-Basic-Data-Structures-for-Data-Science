{
 "cells": [
  {
   "cell_type": "markdown",
   "metadata": {},
   "source": [
    "__Nested loops__\n",
    "<br> \n",
    "__Q4: Write a function called sum_3d_array, which takes a 3-dimensional array and returns the sum of all its elements. You can assume that the length, breadth, and height of 3D array is the same. So, it could be 2*2*2 array or 3*3*3 array and so on.(Hint: you need 3 loops)__"
   ]
  },
  {
   "cell_type": "code",
   "execution_count": 6,
   "metadata": {},
   "outputs": [],
   "source": [
    "def sum_3d_array(three_dim_array):\n",
    "\n",
    "    total = 0\n",
    "    for row in three_dim_array:\n",
    "        for value in row:\n",
    "            for number in value:\n",
    "                total += number\n",
    "    return total\n",
    "\n",
    "\n",
    "t0 = [[[1,2],[3,4]],[[5,6],[7,8]]]\n",
    "assert sum_3d_array(t0) == 36\n",
    "\n",
    "t1 = [[[1,0],[0,1]],[[1,0],[0,1]]]\n",
    "assert sum_3d_array(t1) == 4\n",
    "\n",
    "t2 = [[[1,1],[1,1]],[[1,1],[1,1]]]\n",
    "assert sum_3d_array(t2) == 8\n",
    "\n"
   ]
  },
  {
   "cell_type": "markdown",
   "metadata": {},
   "source": [
    "__Q5: Write a function called elem_square that takes a 2D array matrix and returns a 2D array where every element in this 2D array is a square of corresponding element in matrix.__\n"
   ]
  },
  {
   "cell_type": "code",
   "execution_count": 33,
   "metadata": {},
   "outputs": [],
   "source": [
    "def elem_square(matrix):\n",
    "    for row in range(len(matrix)):\n",
    "        for col in range(len(matrix[row])):\n",
    "            matrix[row][col] = matrix[row][col] ** 2\n",
    "    \n",
    "    return matrix\n",
    "\n",
    "\n",
    "\n",
    "m0 = [[1,2],[3,4]]\n",
    "assert elem_square(m0) == [[1, 4], [9, 16]]\n",
    "\n",
    "m1 = [[10, 0, 0], [5, 2, 2], [0, 3, 4]]\n",
    "assert elem_square(m1) == [[100, 0, 0], [25, 4, 4], [0, 9, 16]]\n",
    "\n",
    "m2 = [[1, 1], [2, 2], [6, 6]]\n",
    "assert elem_square(m2) == [[1, 1], [4, 4], [36, 36]]\n"
   ]
  },
  {
   "cell_type": "markdown",
   "metadata": {},
   "source": [
    "__Q6: Matrix Trace\n",
    "You are given a function that takes a square matrix m and returns the sum of the diagonal values for matrix x. This function employs a nested 2D for-loop. Write a function trace_single_loop that solves the same problem using only one for-loop.__\n",
    "\n"
   ]
  },
  {
   "cell_type": "code",
   "execution_count": 37,
   "metadata": {},
   "outputs": [],
   "source": [
    "def trace(x):\n",
    "   sum = 0\n",
    "   for i in range(len(x)):\n",
    "      for j in range(len(x)):\n",
    "         if i == j:\n",
    "            sum += x[i][j]\n",
    "   return sum\n",
    "\n",
    "\n",
    "def trace_single_loop(x):\n",
    "    sum = 0\n",
    "    for i in range(len(x)):\n",
    "        sum += x[i][i]\n",
    "    return sum\n",
    "\n",
    "    \n",
    "m0 = [[1, 0], [0, 1]]\n",
    "assert trace_single_loop(m0) == 2\n",
    "\n",
    "m1 = [[1, 1, 1], [2,2, 2],[3,3,3]]\n",
    "assert trace_single_loop(m1) == 6\n",
    "\n",
    "m2 = [[3,4],[6, 9]]\n",
    "assert trace_single_loop(m2) == 12\n"
   ]
  },
  {
   "cell_type": "markdown",
   "metadata": {},
   "source": [
    "***Higher-Order Functions***\n",
    "\n",
    "__Q7: Cubes and Squares__\n",
    "\n",
    "Write a function apply_mat(f, m) that takes a function f and a matrix m and applies function f element-wise to the matrix m."
   ]
  },
  {
   "cell_type": "code",
   "execution_count": 43,
   "metadata": {},
   "outputs": [],
   "source": [
    "# return cube of x\n",
    "def cube(x):\n",
    "    return x ** 3\n",
    "\n",
    "# return square of x\n",
    "def sq(x):\n",
    "    return x ** 2\n",
    "\n",
    "def apply_mat(f, matrix):\n",
    "    for row in range(len(matrix)):\n",
    "        for col in range(len(matrix[row])):\n",
    "            matrix[row][col] = f(matrix[row][col])\n",
    "    return matrix\n",
    " \n",
    "    \n",
    "m0 = [[1,2], [3, 4]]\n",
    "m1 = [[10, 0, 0], [5, 2, 2], [0, 3, 4]]\n",
    "m2 = [[1, 1], [2, 2], [6, 6]]\n",
    "\n",
    "assert apply_mat(cube, m0) == [[1, 8], [27, 64]]\n",
    "assert apply_mat(sq, m2) == [[1, 1], [4, 4], [36, 36]]\n",
    "assert apply_mat(cube, m1) == [[1000, 0, 0], [125, 8, 8], [0, 27, 64]]"
   ]
  },
  {
   "cell_type": "code",
   "execution_count": null,
   "metadata": {},
   "outputs": [],
   "source": []
  }
 ],
 "metadata": {
  "kernelspec": {
   "display_name": "Python 2",
   "language": "python",
   "name": "python2"
  },
  "language_info": {
   "codemirror_mode": {
    "name": "ipython",
    "version": 2
   },
   "file_extension": ".py",
   "mimetype": "text/x-python",
   "name": "python",
   "nbconvert_exporter": "python",
   "pygments_lexer": "ipython2",
   "version": "2.7.14"
  }
 },
 "nbformat": 4,
 "nbformat_minor": 2
}
