{
 "cells": [
  {
   "cell_type": "markdown",
   "metadata": {
    "collapsed": true
   },
   "source": [
    "__Q1__: I lost my Integer, help me find it please <br>\n",
    "You are given a list of non-negative integers from 0 to n: [0, 1, 2, 3, 4, 5]. In this example n = 5. You take a shorter list of size n-1 based on these numbers, say, [2, 1, 0, 5, 4] and give it me. My job is to find what number you took away from my original list. <br>\n",
    "\n",
    "Turns out there is a solution that does not require any loops or sorting. Can you think of it? (Note: This is one of many possible approaches) <br>\n",
    "\n",
    "Write a function find_missing(lst) that takes in a list of distinct non-negative integers ranging from 0 to some integer n inclusive. and returns the number that is missing from the list. <br>\n"
   ]
  },
  {
   "cell_type": "code",
   "execution_count": 6,
   "metadata": {},
   "outputs": [
    {
     "name": "stdout",
     "output_type": "stream",
     "text": [
      "Enter list separated by spaces from one line: 1 2 3 5 4 9 8 10 6 \n",
      "7\n"
     ]
    }
   ],
   "source": [
    "def missing_number(lst):\n",
    "    return sum(range(max(lst)+1)) - sum(lst)\n",
    "\n",
    "def main():\n",
    "    # Read numbers as a string from the console\n",
    "    s = input(\"Enter list separated by spaces from one line: \")\n",
    "    items = s.split() # Extract items from the string\n",
    "    lst = [eval(x) for x in items] # Convert items to numbers\n",
    "    print(missing_number(lst))\n",
    "main()\n",
    "    \n"
   ]
  },
  {
   "cell_type": "markdown",
   "metadata": {},
   "source": [
    "__Q2: Binary Search Insert Position__\n",
    "\n",
    "For this question you will be applying a fast and classic search algorithm: Binary Search. <br>\n",
    "\n",
    "Idea of the Binary Search algorithm:<br>\n",
    "\n",
    "Binary Search finds a number (or report that it does not exist) in a sorted sequence of numbers. <br>\n",
    "For example, we will search for number 7 in [2, 4, 7, 9, 12, 15, 20]<br>\n",
    "\n",
    "1. You start checking the middle element, which is 9<br>\n",
    "2. Then you check whether the number you are looking for (7 in our case) greater (or equal to), or less than the middle element (which is 9).<br>\n",
    "If they are the same. You report success and exit. (7 does not equal 9 in our case)<br>\n",
    "If the number to find is smaller than the middle element, then you move to the first half of the sequence (smaller numbers). This our case.<br>\n",
    "If the number to find is larger then the middle element, then you move to the second half of the sequence (larger numbers).<br>\n",
    "3. Repeat step 1: Check the middle element of the smaller sequence [2, 4, 7]. It is 4. <br>\n",
    "4. Repeat step 2. <br>\n",
    "\n",
    "5. Since your sequence is getting smaller and smaller with each iteration, eventually you will have only two possible outcomes:<br>\n",
    "You find the number you are looking for and report that the number was found<br>\n",
    "Your number is not there, the size of the sequence is 0 and you report that the number is not there. <br>\n",
    "For lists of even size, the middle index is the previous of the two middle elements. For example, if the given list is \n",
    "[0, 1, 2, 3], then the middle element would be 1 and not 2.<br>\n",
    "\n",
    "However there is a twist in this problem. You are given a list of numbers sorted in ascending order and a target value to_find. Write a function binary_search_insert that takes in this sorted list, target value to_find and  returns the index of the target value to_find if it is found in the given list. return the index the value would be at if it were inserted in order, if to_find is not found in the given list. "
   ]
  },
  {
   "cell_type": "code",
   "execution_count": 13,
   "metadata": {},
   "outputs": [
    {
     "name": "stdout",
     "output_type": "stream",
     "text": [
      "2\n",
      "-1\n",
      "2\n",
      "5\n",
      "-1\n"
     ]
    }
   ],
   "source": [
    "def binary_search_insert(arr, to_find):\n",
    "    \"\"\" Given an array of sorted integers and a target value to_find,\n",
    "    return the index of to_find if it is in the array and it it is not,\n",
    "    return the index where to_find should be inserted so \n",
    "    that the array is still sorted.\n",
    "\n",
    "    >>> arr = [1, 4, 5, 7]\n",
    "    >>> binary_search_insert(arr, 5)\n",
    "    2\n",
    "    >>> binary_search_insert(arr, -1)\n",
    "    0\n",
    "    \"\"\"\n",
    "    l = 0\n",
    "    r = len(arr) - 1\n",
    "    while l <= r:\n",
    " \n",
    "        mid = l + int((r - l)/2);\n",
    "         \n",
    "        if arr[mid] == to_find:\n",
    "            return mid\n",
    " \n",
    "        elif arr[mid] < to_find:\n",
    "            l = mid + 1\n",
    " \n",
    "        else:\n",
    "            r = mid - 1\n",
    "     \n",
    "    return -1\n",
    "\n",
    "def main():\n",
    "    arr = [1, 4, 5, 7]\n",
    "    print(binary_search_insert(arr, 5))\n",
    "    print(binary_search_insert(arr, 10))\n",
    "    \n",
    "    arr = [1,3,5,6,7,10,15]\n",
    "    print(binary_search_insert(arr, 5))\n",
    "    print(binary_search_insert(arr, 10))\n",
    "    print(binary_search_insert(arr, 0))\n",
    "main()"
   ]
  },
  {
   "cell_type": "markdown",
   "metadata": {},
   "source": [
    "__Q3: Pascal's Triangle __\n",
    "Pascal's Triangle and its properties are explained well by this link: https://www.mathsisfun.com/pascals-triangle.html <br>\n",
    "\n",
    "Your task is to write a function called pascals_triangle that takes in an integer k and returns the first k rows of the Pascal's Triangle. HINT: You would return a list of lists. <br>\n",
    "\n",
    "So, if you want to return a Pascal's triangle with first 4 rows, then you would return something like this:<br>\n",
    "[<br>\n",
    "       [1],<br>\n",
    "    [1, 2, 1],<br>\n",
    " [1, 3, 3, 1],<br>\n",
    "      [1, 4, 6, 4, 1]<br>\n",
    "]<br>\n",
    "\n",
    "NOTE: The indentation is just for illustration and to give you the general idea of the requirement. You do not need to print the triangle in this form. Please look at the doctests below for the required output."
   ]
  },
  {
   "cell_type": "code",
   "execution_count": 22,
   "metadata": {},
   "outputs": [
    {
     "name": "stdout",
     "output_type": "stream",
     "text": [
      "[[1.0], [1.0, 1.0], [1.0, 2.0, 1.0], [1.0, 3.0, 3.0, 1.0], [1.0, 4.0, 6.0, 4.0, 1.0], [1.0, 5.0, 10.0, 10.0, 5.0, 1.0], [1.0, 6.0, 15.0, 20.0, 15.0, 6.0, 1.0], [1.0, 7.0, 21.0, 35.0, 35.0, 21.0, 7.0, 1.0]]\n"
     ]
    }
   ],
   "source": [
    "# Question 3. Pascal's Triangle\n",
    "def factorial(n):\n",
    "    if n == 0:\n",
    "        return 1\n",
    "    else:\n",
    "        return n * factorial(n-1)\n",
    "    \n",
    "def pascals_triangle(k):\n",
    "    \"\"\" Return a list of lists that represent pascals triangle\n",
    "    in order of increasing rows.\n",
    "\n",
    "   >>> pascals_triangle(1)\n",
    "   [[1]]\n",
    "   >>> pascals_triangle(0)\n",
    "   []\n",
    "   >>> pascals_triangle(3)\n",
    "   [[1], [1, 1], [1, 2, 1]]\n",
    "    \"\"\"\n",
    "    lst = []\n",
    "    for i in range (0,k):\n",
    "        numerator = factorial(i)\n",
    "        lst1 = []\n",
    "        for j in range (0,i+1):\n",
    "            denumerator = factorial(j) * factorial(i-j)\n",
    "            number = numerator / denumerator\n",
    "            lst1.append(number)\n",
    "        lst.append(lst1)\n",
    "\n",
    "    return lst\n",
    "def main():\n",
    "    print(pascals_triangle(8))\n",
    "\n",
    "main()\n",
    "            "
   ]
  },
  {
   "cell_type": "markdown",
   "metadata": {},
   "source": [
    "__Q4:  Computing Series__\n",
    "Part 1: Fibonacci Series <br>\n",
    "\n",
    "The Fibonacci Series is a numeric series starting with the integers 0 and 1. In this series, the next integer is determined by summing the previous two.<br>\n",
    "\n",
    "Fibonacci<br>\n",
    "0, 1, 1, 2, 3, 5, 8, 13, 21,....\n",
    "<br>\n",
    "In hw1.py complete function called fibonacci.<br>\n",
    "The function should have one parameter n.<br>\n",
    "The function should return the nth value in the Fibonacci series.<br>\n",
    "Note: indexing starts from 0. <br>\n",
    "\n",
    "Note: If you are familiar with recursion, you can use it. <br>"
   ]
  },
  {
   "cell_type": "code",
   "execution_count": 33,
   "metadata": {},
   "outputs": [
    {
     "name": "stdout",
     "output_type": "stream",
     "text": [
      "The  7 th number in the Fibonacci Series is: 13\n"
     ]
    }
   ],
   "source": [
    "def fibonacci(n):\n",
    "    \"\"\" Returns the nth number in the Fibonacci Series. Indexing starts at 0.\n",
    "    0, 1, 1, 2, 3, 5, 8, 13, 21,....\n",
    "    >>> fibonacci(0)\n",
    "    0\n",
    "    >>> fibonacci(7)\n",
    "    13\n",
    "    >>> fibonacci(11)\n",
    "    89\n",
    "    \"\"\"\n",
    "    if n <= 1:\n",
    "        return (n,0)\n",
    "    else:\n",
    "        (a,b) = fibonacci(n-1)\n",
    "        return(a+b,a)\n",
    "\n",
    "def main():\n",
    "    n = 7\n",
    "    x, y = fibonacci(n)\n",
    "    print(\"The \",n , \"th number in the Fibonacci Series is:\", x)\n",
    "\n",
    "main()"
   ]
  },
  {
   "cell_type": "markdown",
   "metadata": {},
   "source": [
    "__Part 2: Lucas Numbers__\n",
    "\n",
    "The Lucas Numbers are a related series of integers that start with the values 2 and 1 rather than 0 and 1. The resulting series looks like this:<br>\n",
    "Lucas<br>\n",
    "2, 1, 3, 4, 7, 11, 18, 29, ..<br>.\n",
    "\n",
    "In hw1.py complete function called lucas.<br>\n",
    "The function should have one parameter n.<br>\n",
    "The function should return the nth value in the Lucas series.<br>\n",
    "Note: indexing starts from 0. <br>\n",
    "\n",
    "Note: If you are familiar with recursion, you can use it. <br>"
   ]
  },
  {
   "cell_type": "code",
   "execution_count": 65,
   "metadata": {},
   "outputs": [
    {
     "name": "stdout",
     "output_type": "stream",
     "text": [
      "The  14 th number in the Lucas Series is: 843\n"
     ]
    }
   ],
   "source": [
    "def lucas(n):\n",
    "    \"\"\" Returns the nth number in the Lucas Series. Indexing starts at 0.\n",
    "    2, 1, 3, 4, 7, 11, 18, 29, ..<br>.    \n",
    "    >>> lucas(0)\n",
    "    2\n",
    "    >>> lucas(7)\n",
    "    29\n",
    "    >>> lucas(14)\n",
    "    843\n",
    "    \"\"\"\n",
    "    if (n == 0) :\n",
    "        return 2\n",
    "    if (n == 1) :\n",
    "        return 1\n",
    "    return lucas(n - 1) + lucas(n - 2) \n",
    "        \n",
    "\n",
    "def main():\n",
    "    n = 14\n",
    "    x = lucas(n)\n",
    "    print(\"The \",n , \"th number in the Lucas Series is:\", x)\n",
    "\n",
    "main()\n",
    "\n"
   ]
  },
  {
   "cell_type": "markdown",
   "metadata": {},
   "source": [
    "__Part 3: Generalizing__\n",
    "\n",
    "Both the Fibonacci series and the Lucas numbers are based on an identical approach. <br>\n",
    "\n",
    "In hw1.py modify a third function called general_series with one required parameter and two optional parameters. The required parameter will determine which element in the series to print. The two optional parameters will have default values of 0 and 1 and will determine the first two values for the series to be produced.<br>\n",
    "\n",
    "Calling this function with no optional parameters will produce numbers from the Fibonacci series. Calling it with the optional arguments 2 and 1 will produce values from the Lucas numbers. Other values for the optional parameters will produce other series.<br>\n",
    "\n",
    "Important: While you could check the input arguments, and then call one of the functions you wrote, the idea of this question is to make a general function, rather than one specialized. So you should reimplement the code in this function. If this is not done, then Part 3 will be graded with a 0. <br>"
   ]
  },
  {
   "cell_type": "code",
   "execution_count": 67,
   "metadata": {},
   "outputs": [
    {
     "name": "stdout",
     "output_type": "stream",
     "text": [
      "5\n",
      "11\n"
     ]
    }
   ],
   "source": [
    "def fib(index):\n",
    "    if index == 0:\n",
    "        return 0\n",
    "    elif index == 1:\n",
    "        return 1\n",
    "    else:\n",
    "        return fib(index - 1) + fib(index - 2)\n",
    "\n",
    "def lucas(n):\n",
    "    if (n == 0) :\n",
    "        return 2\n",
    "    if (n == 1) :\n",
    "        return 1\n",
    "    return lucas(n - 1) + lucas(n - 2) \n",
    "    \n",
    "def general_series(n, o1 = 0, o2 = 1):\n",
    "    if o1 == 0 and o2 == 1:\n",
    "        return fib(n)\n",
    "    else:\n",
    "        return lucas(n)\n",
    "\n",
    "def main():\n",
    "    print(general_series(5))\n",
    "    print(general_series(5,2,1))\n",
    "\n",
    "main()"
   ]
  },
  {
   "cell_type": "code",
   "execution_count": null,
   "metadata": {},
   "outputs": [],
   "source": []
  }
 ],
 "metadata": {
  "kernelspec": {
   "display_name": "Python 3.6",
   "language": "python",
   "name": "python36"
  },
  "language_info": {
   "codemirror_mode": {
    "name": "ipython",
    "version": 3
   },
   "file_extension": ".py",
   "mimetype": "text/x-python",
   "name": "python",
   "nbconvert_exporter": "python",
   "pygments_lexer": "ipython3",
   "version": "3.6.3"
  }
 },
 "nbformat": 4,
 "nbformat_minor": 2
}
