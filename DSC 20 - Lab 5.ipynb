{
 "cells": [
  {
   "cell_type": "markdown",
   "metadata": {
    "collapsed": true
   },
   "source": [
    "__Question 2: Remember__ <br>\n",
    "Write a function that will return a function which will be used to update that value in memory as it persists through multiple function call tests"
   ]
  },
  {
   "cell_type": "code",
   "execution_count": 17,
   "metadata": {},
   "outputs": [],
   "source": [
    "def remember(num):\n",
    "    def fun(f):\n",
    "        nonlocal num\n",
    "        num = f(num)\n",
    "        return num\n",
    "    return fun\n",
    "\n",
    "fun = remember(10)\n",
    "assert fun(lambda x: x * 3) == 30\n",
    "assert fun(lambda x: x // 5) == 6\n",
    "assert fun(lambda x: x > 5) == True\n",
    "assert fun(lambda x: x != True) == False\n",
    "assert fun(lambda x: x + 4) == 4"
   ]
  },
  {
   "cell_type": "markdown",
   "metadata": {},
   "source": [
    "__Question 3: Appending to an array with Nonlocal__\n",
    "\n",
    "\n",
    "\n",
    "Write a function which takes in a function and array of integers, and returns a function that will take in a list, pass each element in the list through function f, \n",
    "and append the resulting list to the parameter list, arr, which will persist through function calls.\n",
    "\n",
    "\n",
    "\n",
    "Note that you must use the ‘nonlocal’ keyword to modify the parent array, and that you cannot return or create a new array.\n",
    "\n"
   ]
  },
  {
   "cell_type": "code",
   "execution_count": 23,
   "metadata": {},
   "outputs": [],
   "source": [
    "def mul_by_two(num):\n",
    "    return 2 * num\n",
    "\n",
    "\n",
    "def el_appender(f, arr):\n",
    "    def add_to_arr(add_arr):\n",
    "        for num in add_arr:\n",
    "            arr.append(f(num))\n",
    "        return arr\n",
    "    return add_to_arr\n",
    "\n",
    "appender = el_appender(mul_by_two, [1,2,3,4])\n",
    "assert appender([1,2,3]) == [1, 2, 3, 4, 2, 4, 6]\n",
    "assert appender([2]) ==  [1, 2, 3, 4, 2, 4, 6, 4]\n",
    "\n"
   ]
  },
  {
   "cell_type": "code",
   "execution_count": null,
   "metadata": {},
   "outputs": [],
   "source": []
  }
 ],
 "metadata": {
  "kernelspec": {
   "display_name": "Python 3.6",
   "language": "python",
   "name": "python36"
  },
  "language_info": {
   "codemirror_mode": {
    "name": "ipython",
    "version": 3
   },
   "file_extension": ".py",
   "mimetype": "text/x-python",
   "name": "python",
   "nbconvert_exporter": "python",
   "pygments_lexer": "ipython3",
   "version": "3.6.3"
  }
 },
 "nbformat": 4,
 "nbformat_minor": 2
}
