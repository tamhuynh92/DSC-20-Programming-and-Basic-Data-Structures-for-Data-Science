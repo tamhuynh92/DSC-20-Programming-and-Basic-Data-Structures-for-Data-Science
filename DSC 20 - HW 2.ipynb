{
 "cells": [
  {
   "cell_type": "code",
   "execution_count": 5,
   "metadata": {},
   "outputs": [
    {
     "data": {
      "text/plain": [
       "6"
      ]
     },
     "execution_count": 5,
     "metadata": {},
     "output_type": "execute_result"
    }
   ],
   "source": [
    "double = lambda x: 2*x \n",
    "\n",
    "double(3)"
   ]
  },
  {
   "cell_type": "code",
   "execution_count": 8,
   "metadata": {},
   "outputs": [
    {
     "data": {
      "text/plain": [
       "8"
      ]
     },
     "execution_count": 8,
     "metadata": {},
     "output_type": "execute_result"
    }
   ],
   "source": [
    "add = lambda x, y : x + y\n",
    "add(3,5)"
   ]
  },
  {
   "cell_type": "code",
   "execution_count": 15,
   "metadata": {},
   "outputs": [
    {
     "data": {
      "text/plain": [
       "5"
      ]
     },
     "execution_count": 15,
     "metadata": {},
     "output_type": "execute_result"
    }
   ],
   "source": [
    "findmax = lambda x, y : x if x>y else y\n",
    "findmax(4,5)"
   ]
  },
  {
   "cell_type": "markdown",
   "metadata": {},
   "source": [
    "### Part 1. Nested Loops\n",
    "\n",
    "#### Q1.1:    ATM\n",
    "\n",
    "You want get num * 100 dollars from the ATM that only gives out 50, 20, and 10 dollar bills.  You wish to have at least 5 bills of each kind (at least five \\$50 bills, at least five \\$20 bills, and at least five $10 bills).  Write a function atm, which takes a integer, num and returns all possible ways an ATM can combine these bills in two dimensional array. <br>\n",
    "\n",
    "Notes:<br>\n",
    "If there is no way to break num*100 into required combination, have an assertion that fails.<br>\n",
    "The order of the combinations is not important, but the order within a combination is very important. <br>\n",
    "Output should look like [[5, 23, 29], [7, 26, 13], ....]. This is an array of arrays of 3 numbers. <br>\n",
    "For example, atm(10) asks to make change for \\$1000. One of the combinations of denominations satisfy this quantity is [5, 23, 29] because this means the ATM returns five \\$50 bills, twenty-three \\$20 bills and twenty-nine \\$10 bills, which together sum to \\$1000, as desired.<br>\n",
    "10, 20, and 50 are magic numbers and thus cannot be used directly in your code.<br>"
   ]
  },
  {
   "cell_type": "code",
   "execution_count": 33,
   "metadata": {},
   "outputs": [
    {
     "name": "stdout",
     "output_type": "stream",
     "text": [
      "$10 = 5 \t$20 = 5 \t$50 = 7\n",
      "$10 = 5 \t$20 = 10 \t$50 = 5\n",
      "$10 = 6 \t$20 = 7 \t$50 = 6\n",
      "$10 = 7 \t$20 = 9 \t$50 = 5\n",
      "$10 = 8 \t$20 = 6 \t$50 = 6\n",
      "$10 = 9 \t$20 = 8 \t$50 = 5\n",
      "$10 = 10 \t$20 = 5 \t$50 = 6\n",
      "$10 = 11 \t$20 = 7 \t$50 = 5\n",
      "$10 = 13 \t$20 = 6 \t$50 = 5\n",
      "$10 = 15 \t$20 = 5 \t$50 = 5\n"
     ]
    }
   ],
   "source": [
    "BILL10 = 10\n",
    "BILL20 = 20\n",
    "BILL50 = 50\n",
    "MIN = 5\n",
    "\n",
    "def atm(n):\n",
    "    amount = n*100\n",
    "    l10 = int(amount/BILL10)\n",
    "    l20 = int(amount/BILL20)\n",
    "    l50 = int(amount/BILL50)\n",
    "    matrix = []\n",
    "    \n",
    "    for i in range(MIN, l10):\n",
    "        for j in range(MIN, l20):\n",
    "            for k in range(MIN, l50):\n",
    "                if(i*BILL10 + j*BILL20 + k*BILL50 == amount):\n",
    "                    matrix.append([i,j,k])\n",
    "    \n",
    "    if matrix == []:\n",
    "        return \"NONE\"\n",
    "    else:\n",
    "        for row in matrix:\n",
    "            print(\"$10 =\", row[0], \"\\t$20 =\", row[1], \"\\t$50 =\", row[2])\n",
    "        \n",
    "\n",
    "atm(5)\n",
    "        \n",
    "        \n",
    "    \n",
    "    \n",
    "        \n",
    "    \n",
    "    "
   ]
  },
  {
   "cell_type": "markdown",
   "metadata": {},
   "source": [
    "__Q1.2:   Primes from the interval__\n",
    "\n",
    "Write a function, prime, which takes in two positive integers, x and y and output an array containing all prime numbers within the range of x and y  (both inclusive). Article about prime numbers in case you need a definition: Prime numbers"
   ]
  },
  {
   "cell_type": "code",
   "execution_count": 47,
   "metadata": {},
   "outputs": [],
   "source": [
    "def prime(x,y):\n",
    "        matrix = []\n",
    "        for i in range (x, y+1):\n",
    "            divisor = 2\n",
    "            isPrime = True\n",
    "            while divisor <= i/2:\n",
    "                if i % divisor == 0:\n",
    "                    isPrime = False\n",
    "                    break\n",
    "                divisor += 1\n",
    "            \n",
    "            if(isPrime == True):\n",
    "                matrix.append(i)\n",
    "        return matrix\n",
    "                \n",
    "assert prime(3,10) == [3,5,7]\n",
    "assert prime(3,3) == [3]\n",
    "assert prime(2,3) == [2,3]\n",
    "assert prime(10, 50) == [11, 13, 17, 19, 23, 29, 31, 37, 41, 43, 47]"
   ]
  },
  {
   "cell_type": "markdown",
   "metadata": {},
   "source": [
    "__Functions as arguments__\n",
    "<br>\n",
    "__Q2.1:  Apply and Apply__"
   ]
  },
  {
   "cell_type": "code",
   "execution_count": 3,
   "metadata": {},
   "outputs": [],
   "source": [
    "from operator import add, mul\n",
    "\n",
    "def square(x):\n",
    "    return x * x\n",
    "\n",
    "def negate(x):\n",
    "    return  -x\n",
    "\n",
    "def identity(x):\n",
    "    return x\n",
    "def triple(x):\n",
    "    return 3 * x\n",
    "def increment(x):\n",
    "    return x+1\n",
    "def increment_by(x, step):\n",
    "    return x + step\n",
    "\n",
    "def apply_twice(f, x):\n",
    "    return f(f(x))\n",
    "\n",
    "assert apply_twice(square, 3) == 81\n",
    "assert apply_twice(square, 5) == 625\n",
    "assert apply_twice(square, 10) == 10000 "
   ]
  },
  {
   "cell_type": "markdown",
   "metadata": {},
   "source": [
    "__Q2.2: Apply, Apply, Apply.....__\n",
    "<br>\n",
    "\n",
    "__If the function is increment_by() then it needs the step argument (by default this argument is None so that Python does not complain). __"
   ]
  },
  {
   "cell_type": "code",
   "execution_count": 20,
   "metadata": {},
   "outputs": [],
   "source": [
    "from operator import add, mul\n",
    "\n",
    "def square(x):\n",
    "    return x * x\n",
    "\n",
    "def negate(x):\n",
    "    return  -x\n",
    "\n",
    "def identity(x):\n",
    "    return x\n",
    "def triple(x):\n",
    "    return 3 * x\n",
    "def increment(x):\n",
    "    return x+1\n",
    "def increment_by(x, step):\n",
    "    return x + step\n",
    "\n",
    "def apply_n_times(f, x, n, step=None):\n",
    "    return f(x)**(n+1) if step == None else f(x, step * n) \n",
    "    \n",
    "\n",
    "assert apply_n_times(increment_by, 2, 1, 10) == 12\n",
    "assert apply_n_times(increment_by, 2, 3, 5) == 17\n",
    "assert apply_n_times(increment_by, 3, 4, 7) == 31\n",
    "assert apply_n_times(square, 2, 3) == 256\n"
   ]
  },
  {
   "cell_type": "markdown",
   "metadata": {},
   "source": [
    "__Returning Functions:__<br>\n",
    "\n",
    "__ Q2.3: Friendship. __ <br>\n",
    "\n",
    "We say that two functions are friends at an argument x if they return identical values. For example, square(1) and identity(1) are friends at argument 1. Implement method friendship, which takes a one-argument function f and a value x. It returns a function that takes another function g and returns whether f and g are friends at x."
   ]
  },
  {
   "cell_type": "code",
   "execution_count": 30,
   "metadata": {},
   "outputs": [],
   "source": [
    "from operator import add, mul\n",
    "\n",
    "def square(x):\n",
    "    return x * x\n",
    "\n",
    "def negate(x):\n",
    "    return  -x\n",
    "\n",
    "def identity(x):\n",
    "    return x\n",
    "def triple(x):\n",
    "    return 3 * x\n",
    "def increment(x):\n",
    "    return x+1\n",
    "def increment_by(x, step):\n",
    "    return x + step\n",
    "\n",
    "def friendship(f, x):\n",
    "    def check_friends(g):\n",
    "        return g(x) == f(x)\n",
    "    return check_friends\n",
    "       \n",
    "\n",
    "num1 = friendship(square, 3)\n",
    "assert num1(triple) == True\n",
    "assert num1(increment) == False\n",
    "\n",
    "num2 = friendship(identity, 1)\n",
    "assert num2(square) == True\n",
    "assert num2(triple) == False"
   ]
  },
  {
   "cell_type": "markdown",
   "metadata": {},
   "source": [
    "__Q2.4: Piecewise Function__\n",
    "<br>\n",
    "Write a function, piecewise(), which takes two one-argument functions, f and g. It also take an integer, num. It returns a new function that takes a number x and returns either f(x) if x is less than num, or g(x) otherwise.<br>\n",
    "\n"
   ]
  },
  {
   "cell_type": "code",
   "execution_count": 41,
   "metadata": {},
   "outputs": [],
   "source": [
    "from operator import add, mul\n",
    "\n",
    "def square(x):\n",
    "    return x * x\n",
    "\n",
    "def negate(x):\n",
    "    return  -x\n",
    "\n",
    "def identity(x):\n",
    "    return x\n",
    "def triple(x):\n",
    "    return 3 * x\n",
    "def increment(x):\n",
    "    return x+1\n",
    "def increment_by(x, step):\n",
    "    return x + step\n",
    "\n",
    "def piecewise(f, g, num):\n",
    "    def h(x):\n",
    "        if x < num:\n",
    "            return f(x)\n",
    "        return g(x)\n",
    "    return h\n",
    "\n",
    "abs_value = piecewise(negate, identity, 0)\n",
    "assert abs_value(6) == 6\n",
    "assert abs_value(-1) == 1\n",
    "assert abs_value(10) == 10"
   ]
  },
  {
   "cell_type": "markdown",
   "metadata": {},
   "source": [
    "__Q2.5: Bazinga__ <br>\n",
    "\n",
    "Write a function, perfect_bazinga(), that takes in a integer num and returns a function that takes in a number top_of_range which will return a list of all integers from [0, top_of_range) (including 0 but excluding top_of_range) but overrides the numbers with curious descriptives as follows:<br>\n",
    "\n",
    "return Bazinga instead for all the numbers that are divisible by num<br>\n",
    "return I'm Perfect if a number is perfect<br>\n",
    "return I'm Both if a number is both perfect and divisible by num<br>"
   ]
  },
  {
   "cell_type": "code",
   "execution_count": 78,
   "metadata": {},
   "outputs": [],
   "source": [
    "def perfect_bazinga(num):\n",
    "    def divide(n):\n",
    "        lst = []\n",
    "        for i in range (0, n):\n",
    "            sum = 0\n",
    "            for j in range (1, i):\n",
    "                if i % j == 0:\n",
    "                    sum = sum + j \n",
    "                    \n",
    "            isPerfect = True if sum == i and sum != 0 else False\n",
    "            isDivisble = True if i % num == 0 else False\n",
    "                \n",
    "            if(isPerfect and isDivisble):\n",
    "                lst.append(\"I'm Both\")\n",
    "            elif(isPerfect):\n",
    "                lst.append(\"I'm Perfect\")\n",
    "            elif(isDivisble):\n",
    "                lst.append(\"Bazinga\")\n",
    "            else:\n",
    "                lst.append(i)\n",
    "           \n",
    "        return lst\n",
    "    return divide\n",
    "    \n",
    "try_six = perfect_bazinga(16)\n",
    "assert try_six(10) == ['Bazinga', 1, 2, 3, 4, 5, \"I'm Perfect\", 7, 8, 9]\n",
    "\n",
    "try_six = perfect_bazinga(6)\n",
    "assert try_six(15) == ['Bazinga', 1, 2, 3, 4, 5, \"I'm Both\", 7, 8, 9, 10, 11, 'Bazinga', 13, 14]\n",
    "\n",
    "\n"
   ]
  },
  {
   "cell_type": "markdown",
   "metadata": {},
   "source": [
    "__Q2.6: List Overlap__ <br>\n",
    "\n",
    "Write a function that takes in a list of lists and returns the items that overlap across all of those lists. Note: the function must be general enough to work for any type of sublist, including strings, ints and so forth. <br>\n",
    "<br>\n",
    "Input: A list of lists of items.\n",
    "<br>\n",
    "Return: A list of overlapping items.\n",
    "<br>\n"
   ]
  },
  {
   "cell_type": "code",
   "execution_count": 106,
   "metadata": {},
   "outputs": [],
   "source": [
    "def list_overlap(lists):\n",
    "    lst = []\n",
    "    if len(lists) > 0:\n",
    "        s = set(lists[0])\n",
    "        for lst in lists:\n",
    "            s = s.intersection(lst)\n",
    "        lst = list(s)\n",
    "    return lst\n",
    "\n",
    "assert list_overlap([[1,2,3],[2,4,5]]) == [2]\n",
    "assert list_overlap([[1,4,5,6],[1,5,6,7],[1,5,10,11]]) == [1,5]\n",
    "assert list_overlap([[1,2,3],[4,5,6]]) == []\n",
    "assert list_overlap([[1,2],[2,3],[3,4]]) == []"
   ]
  },
  {
   "cell_type": "code",
   "execution_count": null,
   "metadata": {},
   "outputs": [],
   "source": []
  }
 ],
 "metadata": {
  "kernelspec": {
   "display_name": "Python 3.6",
   "language": "python",
   "name": "python36"
  },
  "language_info": {
   "codemirror_mode": {
    "name": "ipython",
    "version": 3
   },
   "file_extension": ".py",
   "mimetype": "text/x-python",
   "name": "python",
   "nbconvert_exporter": "python",
   "pygments_lexer": "ipython3",
   "version": "3.6.3"
  }
 },
 "nbformat": 4,
 "nbformat_minor": 2
}
