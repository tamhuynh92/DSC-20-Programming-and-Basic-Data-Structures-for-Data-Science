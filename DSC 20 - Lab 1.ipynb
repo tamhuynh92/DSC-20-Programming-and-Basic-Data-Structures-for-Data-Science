{
 "cells": [
  {
   "cell_type": "markdown",
   "metadata": {},
   "source": [
    "__Coding Practice__ <br>\n",
    "__Q3:__ When Griffin family get together for a tea party, they like to have muffins. A tea party is successful when the number of muffins  is between 30 and 70, inclusive. Unless it is the weekend, in which case there is no upper bound on the number of muffins. Implement  the tea_party function, which takes two arguments: number of muffins, a positive integer m, and a boolean isWeekend.  Return True if the party with the given values is successful, or False otherwise.\n",
    "\n",
    "\n"
   ]
  },
  {
   "cell_type": "code",
   "execution_count": 5,
   "metadata": {},
   "outputs": [],
   "source": [
    "def tea_party(m, isWeekend):\n",
    "    if isWeekend and m>= 30:\n",
    "        return True\n",
    "    else:\n",
    "        return True if 30 <= m <= 70 else False\n",
    "        \n",
    "assert tea_party(30, False) == True        \n",
    "assert tea_party(10, True) == False\n",
    "assert tea_party(60, False) == True\n",
    "assert tea_party(80, True) == True"
   ]
  },
  {
   "cell_type": "markdown",
   "metadata": {},
   "source": [
    "__Q4:__ \n",
    "We'll say that a value is \"frequent\" in an array if for every pair of adjacent elements in the array, at least one of the pair is that value. \n",
    "<br>Write a function frequent which takes two arguments: an array of integers,  nums, and an integer val. \n",
    "Return True if the given value is frequent in the array and false otherwise. "
   ]
  },
  {
   "cell_type": "code",
   "execution_count": 47,
   "metadata": {},
   "outputs": [],
   "source": [
    "def frequent(nums, val):\n",
    "    \n",
    "    if nums == []:\n",
    "        return True\n",
    "    \n",
    "    elif(len(nums)%2 == 1):\n",
    "        if(nums[len(nums)-1] != val):\n",
    "            return False\n",
    "        \n",
    "    i = 0\n",
    "    while(i<len(nums)):\n",
    "        if(nums[i] == val or nums[i+1] == val):\n",
    "            i += 2\n",
    "            continue\n",
    "        else:\n",
    "            return False\n",
    "    \n",
    "    return True\n",
    "  \n",
    "assert frequent([1, 2, 1, 3], 1) == True\n",
    "assert frequent([1, 2, 1, 3], 2) == False\n",
    "assert frequent([1, 2, 1, 3, 4], 1) == False\n",
    "assert frequent([], 1) == True\n",
    "assert frequent([2, 1, 2, 3, 1], 2) == False\n",
    "assert frequent([2, 1, 2, 2, 2, 1, 2, 1], 2) == True\n",
    "    \n"
   ]
  },
  {
   "cell_type": "markdown",
   "metadata": {},
   "source": [
    "__Q5: Write a function that takes in an integer and multiplies its digits together. (Using floor\n",
    "division and modulo might be helpful here!) __"
   ]
  },
  {
   "cell_type": "code",
   "execution_count": 52,
   "metadata": {},
   "outputs": [],
   "source": [
    "def mult_digits(n):\n",
    "    number = str(n)\n",
    "    mul = 1\n",
    "    for i in range(0, len(number)):\n",
    "        mul = mul *int(number[i])\n",
    "    return mul\n",
    "\n",
    "assert mult_digits(10) == 0\n",
    "assert mult_digits(4224) == 64\n",
    "assert mult_digits(123456789) == 362880\n",
    "    "
   ]
  },
  {
   "cell_type": "code",
   "execution_count": null,
   "metadata": {},
   "outputs": [],
   "source": []
  }
 ],
 "metadata": {
  "kernelspec": {
   "display_name": "Python 3.6",
   "language": "python",
   "name": "python36"
  },
  "language_info": {
   "codemirror_mode": {
    "name": "ipython",
    "version": 3
   },
   "file_extension": ".py",
   "mimetype": "text/x-python",
   "name": "python",
   "nbconvert_exporter": "python",
   "pygments_lexer": "ipython3",
   "version": "3.6.3"
  }
 },
 "nbformat": 4,
 "nbformat_minor": 2
}
