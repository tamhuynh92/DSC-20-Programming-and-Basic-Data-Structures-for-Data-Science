{
 "cells": [
  {
   "cell_type": "markdown",
   "metadata": {
    "collapsed": true
   },
   "source": [
    "__Q1: WWPD: Recursion Again!  __ <br>\n",
    "        Use Ok to test your knowledge with the following \"What Would Python Display?\" questions:"
   ]
  },
  {
   "cell_type": "code",
   "execution_count": 8,
   "metadata": {},
   "outputs": [],
   "source": [
    "def burrito (a,b):\n",
    "    tmp = b\n",
    "    b = a % b\n",
    "    \n",
    "    if b == 0:\n",
    "        return tmp\n",
    "    else:\n",
    "        return burrito(tmp,b)\n",
    "\n",
    "assert burrito(12, 20) == 4\n",
    "assert burrito(1, 10000) == 1\n",
    "assert burrito(16, 32) == 16\n",
    "assert burrito(48, 18)  == 6"
   ]
  },
  {
   "cell_type": "markdown",
   "metadata": {},
   "source": [
    "__Q5: Horner's Method__ <br>\n",
    "Horner's method is an algorithm for calculating polynomials. It performs its calculation by evaluating all the terms in the polynomial expression one by one. <br>\n",
    "\n",
    "For example, <br>\n",
    "    Take the expression: 3x^2 + 2x + 1. Given x = 2 <br>\n",
    "    Horner's method will interpret as: <br>\n",
    "        (3*x + 2) * x + 1    OR     1 + x * (2 + x * (3))  #Think, which one is easier to use\n",
    " <br>\n",
    "    Horner's will output: 17 <br>\n",
    " <br>\n",
    "Another Example, <br>\n",
    " <br>\n",
    "        Let's take 4x3+3x2+2x+1 where degree=3 as an example. The function call will be\n",
    " <br>\n",
    "       horner([4,3,2,1], 3 , x), where x can be any value.\n",
    " <br>\n",
    "       Horner's method will calculate this expression in the following way:\n",
    " <br>\n",
    "       1+x⋅(2+x⋅(3+x⋅4)))\n",
    "\n",
    " <br>\n",
    "(Hint: You will find that the result can be calculated using a single skeleton function: constant+x⋅(previous result))\n",
    "Write a recursive version of Horner's Method that outputs the total value of a polynomial.\n"
   ]
  },
  {
   "cell_type": "code",
   "execution_count": 17,
   "metadata": {},
   "outputs": [],
   "source": [
    "def horner(coeff, degree, x):\n",
    "    if len(coeff) == 0:\n",
    "        return 0\n",
    "    \n",
    "    return coeff[-1] + x * horner(coeff[:-1],degree,x)\n",
    "\n",
    "assert horner([1, 2, 3], 2, 3) == 18\n",
    "assert horner([20,18],1,100) == 2018\n",
    "assert horner([5, 4, 3, 2, 1], 4, 6) == 7465"
   ]
  },
  {
   "cell_type": "markdown",
   "metadata": {},
   "source": [
    "Suppose DSC20 lecture just ended. You and your friends are hungry! There's one problem: where should you all eat? You decide to do some data collection for dining hall ratings. Conveniently, someone has already made an abstract data type for dining hall ratings in a file called lab04_stuff. So, you do not need to worry about implementing data storage for dining hall reviews yourself. It contains the following functions:\n",
    "<br><br>\n",
    "\n",
    "make_review(name, rating): A constructor that creates a dining hall review object. A dining hall review contains the name of the dining hall being reviewed and a numeric rating.<br>\n",
    "\n",
    "get_place(review): A selector that gets the name of the reviewed dining hall from a dining hall review object.<br>\n",
    "\n",
    "get_rating(review): A selector that gets the rating for a review.<br>\n"
   ]
  },
  {
   "cell_type": "markdown",
   "metadata": {},
   "source": [
    "__Q6: make_reviews_list__ <br>\n",
    "Suppose you ask your friends how they would rate a particular dining hall and store their ratings into a list. You want the use the abstract data type of dining hall reviews. Typing code to create a review object for each rating is tedious. So, you decide to make a function that takes your list of ratings and creates a new list of dining hall reviews out of them. For example, if you asked three of your friends how they felt about Pines and their ratings were 3, 4, 5, then you would call make_reviews_list('Pines', [3, 4, 5]). Write a function that takes the name of dining hall and a list of ratings for that dining hall and returns a list of review objects corresponding to each rating.\n"
   ]
  },
  {
   "cell_type": "code",
   "execution_count": 24,
   "metadata": {},
   "outputs": [],
   "source": [
    "def make_reviews_list(dining_hall, ratings):\n",
    "    review = []\n",
    "    \n",
    "    for i in range(len(ratings)):\n",
    "        invidiual = []\n",
    "        invidiual.append(dining_hall)\n",
    "        invidiual.append(ratings[i])\n",
    "        review.append(invidiual)\n",
    "    \n",
    "    return review\n",
    "\n",
    "\n",
    "assert make_reviews_list('7th College Dining Hall', []) == []\n",
    "assert make_reviews_list('A', [123]) == [['A', 123]]\n",
    "assert make_reviews_list('B', [0, 1]) == [['B', 0], ['B', 1]]\n"
   ]
  },
  {
   "cell_type": "markdown",
   "metadata": {},
   "source": [
    "__Q7: average_rating__ <br>\n",
    "Your friends are tired of rating each dining hall. You discover that lab05_stuff actually contains some reviews for each dining hall from Google! So, you decide to use the Google reviews. The next step is to figure out a way to compare dining halls. You decide to do this by comparing the average rating for each dining hall. In order to do that, you need a way to get the average review for a specific dining hall given a list of reviews for all dining halls on campus. Write a function that takes the name of a particular dining hall and a list of reviews and returns the average rating for the particular dining hall from the reviews. Note that the given list of reviews may contain reviews for other dining halls!\n",
    "\n",
    "\"\"\"\n",
    "    Finds the average rating for a particular dining hall. The list of\n",
    "    reviews is given as the second parameter. The average rating should be\n",
    "    returned as its own review.\n",
    "\n"
   ]
  },
  {
   "cell_type": "code",
   "execution_count": 37,
   "metadata": {},
   "outputs": [],
   "source": [
    "def make_review(place, rating):\n",
    "    return [place, rating]\n",
    "\n",
    "def get_place(review):\n",
    "    return review[0]\n",
    "\n",
    "def get_rating(review):\n",
    "    return review[1]\n",
    "\n",
    "google_reviews = [\n",
    "    make_review('Canyon Vista', 1),\n",
    "    make_review('Canyon Vista', 3),\n",
    "    make_review('Canyon Vista', 4),\n",
    "    make_review('Canyon Vista', 1),\n",
    "    make_review('Canyon Vista', 2),\n",
    "    make_review('Foodworx', 3),\n",
    "    make_review('Foodworx', 5),\n",
    "    make_review('Foodworx', 1),\n",
    "    make_review('Foodworx', 5),\n",
    "    make_review('Foodworx', 3),\n",
    "    make_review('Pines', 3),\n",
    "    make_review('Pines', 2),\n",
    "    make_review('Pines', 4),\n",
    "    make_review('Pines', 5),\n",
    "    make_review('Pines', 4),\n",
    "    make_review('64 Degrees', 4),\n",
    "    make_review('64 Degrees', 5),\n",
    "    make_review('64 Degrees', 4),\n",
    "    make_review('64 Degrees', 3),\n",
    "    make_review('64 Degrees', 5),\n",
    "    make_review('OVT', 5),\n",
    "    make_review('OVT', 4),\n",
    "    make_review('OVT', 2),\n",
    "    make_review('OVT', 5),\n",
    "    make_review('OVT', 4),\n",
    "    make_review('Cafe Ventanas', 4),\n",
    "    make_review('Cafe Ventanas', 1),\n",
    "    make_review('Cafe Ventanas', 5),\n",
    "    make_review('Cafe Ventanas', 3),\n",
    "    make_review('Cafe Ventanas', 4)\n",
    "]\n",
    "def average_rating(dining_hall, reviews=google_reviews):\n",
    "    sum = 0\n",
    "    count = 0\n",
    "    for i in range(len(reviews)):\n",
    "        if dining_hall == reviews[i][0]:\n",
    "            sum += reviews[i][1]\n",
    "            count += 1\n",
    "    return sum/count\n",
    "\n",
    "assert average_rating('Canyon Vista') == 2.2\n",
    "assert average_rating('64 Degrees') == 4.2\n",
    "assert average_rating('Foodworx') == 3.4"
   ]
  },
  {
   "cell_type": "markdown",
   "metadata": {},
   "source": [
    "__Q8: better_dining_hall__ <br>\n",
    "\n",
    "Since you and your friends do not want to walk too far from Solis Hall, you all agree to pick either OVT or Pines since they are the close. So, which one is the better dining hall? To find out, write a function that takes the name of two dining halls and returns the name of the better one. The better dining hall is the dining hall with the higher average rating."
   ]
  },
  {
   "cell_type": "code",
   "execution_count": 44,
   "metadata": {},
   "outputs": [],
   "source": [
    "def better_dining_hall(first, second):\n",
    "    reviews=google_reviews\n",
    "    sum1 = 0\n",
    "    count1 = 0\n",
    "    sum2 = 0\n",
    "    count2 = 0\n",
    "    for i in range(len(reviews)):\n",
    "        if first== reviews[i][0]:\n",
    "            sum1 += reviews[i][1]\n",
    "            count1 += 1\n",
    "            \n",
    "        elif second == reviews[i][0]:\n",
    "            sum2 += reviews[i][1]\n",
    "            count2 += 1\n",
    "    \n",
    "    if sum1/count1 > sum2/count2:\n",
    "        return first\n",
    "    else:\n",
    "        return second\n",
    "\n",
    "assert better_dining_hall('OVT', 'Pines') == 'OVT'\n",
    "assert better_dining_hall('Canyon Vista', 'Pines') == 'Pines'\n",
    "assert better_dining_hall('Cafe Ventanas', '64 Degrees') == '64 Degrees'"
   ]
  },
  {
   "cell_type": "code",
   "execution_count": null,
   "metadata": {},
   "outputs": [],
   "source": []
  }
 ],
 "metadata": {
  "kernelspec": {
   "display_name": "Python 3.6",
   "language": "python",
   "name": "python36"
  },
  "language_info": {
   "codemirror_mode": {
    "name": "ipython",
    "version": 3
   },
   "file_extension": ".py",
   "mimetype": "text/x-python",
   "name": "python",
   "nbconvert_exporter": "python",
   "pygments_lexer": "ipython3",
   "version": "3.6.3"
  }
 },
 "nbformat": 4,
 "nbformat_minor": 2
}
