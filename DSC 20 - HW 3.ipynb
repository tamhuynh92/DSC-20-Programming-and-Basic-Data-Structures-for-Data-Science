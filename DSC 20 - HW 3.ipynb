{
 "cells": [
  {
   "cell_type": "markdown",
   "metadata": {
    "collapsed": true
   },
   "source": [
    "__Q1: Flowers__\n",
    "\n",
    "There are n flowers in the garden. Each flower at even position has 2 leaves, and each flower at odd position has 3 leaves. Write a recursive function, garden, that takes a non-negative integer, n and returns the numbers of leaves in the garden. For example, if n is 3, then there is a flower at position 1 with 3 leaves, a flower at position 2 with 2 leaves, and a flower at position 3 with 3 leaves. So, there is a total of 3 + 2 + 3 = 8 leaves. <br>\n",
    "\n",
    "    "
   ]
  },
  {
   "cell_type": "code",
   "execution_count": 5,
   "metadata": {},
   "outputs": [],
   "source": [
    "def garden(n): \n",
    "    if n == 0: \n",
    "        return 0\n",
    "    return garden(n-1) + 2 if n % 2 == 0 else garden(n-1) + 3\n",
    "    \n",
    "    \n",
    "    \n",
    "assert garden(3) == 8\n",
    "assert garden(0) == 0\n",
    "assert garden(4) == 10\n",
    "    "
   ]
  },
  {
   "cell_type": "markdown",
   "metadata": {},
   "source": [
    "__Q2: Power__\n",
    "\n",
    "Write a recursive function, power, which takes two integers, base and p (for power) and returns the value of base raised to the p power. You may not use the built-in pow function and you may not use the exponent operator (**).\n",
    "\n"
   ]
  },
  {
   "cell_type": "code",
   "execution_count": 19,
   "metadata": {},
   "outputs": [],
   "source": [
    "def power(base, p):\n",
    "    if p == 0:\n",
    "        return 1\n",
    "    elif p > 0:\n",
    "        return base * power(base, p-1)\n",
    "    elif p < 0:\n",
    "        return (1/base) * power(base, p+1)\n",
    "    \n",
    "assert power(3,1) == 3\n",
    "assert power(5,0) == 1\n",
    "assert power(1,6) == 1\n",
    "assert power(4,2) == 16\n",
    "assert power(4,-2) == 0.0625\n",
    "assert power(3,-4) == 0.012345679012345678 \n"
   ]
  },
  {
   "cell_type": "markdown",
   "metadata": {},
   "source": [
    "__Q3: Has Eight__ <br>\n",
    "Write a function has_eight that takes a positive integer n and returns whether n contains the digit 8. Do not use any assignment statements - use recursion instead:"
   ]
  },
  {
   "cell_type": "code",
   "execution_count": 39,
   "metadata": {},
   "outputs": [],
   "source": [
    "def has_eight(k):\n",
    "    if k < 10:\n",
    "        return True if k == 8 else False\n",
    "    if k % 10 == 8:\n",
    "        return True\n",
    "    else:\n",
    "        return has_eight(k//10)\n",
    "    \n",
    "\n",
    "assert has_eight(8) == True\n",
    "assert has_eight(78) == True\n",
    "assert has_eight(2834) == True\n",
    "assert has_eight(2634) == False\n",
    "assert has_eight(7348) == True\n",
    "assert has_eight(8888) == True\n"
   ]
  },
  {
   "cell_type": "markdown",
   "metadata": {},
   "source": [
    "__Q4: Count Eights__ <br>\n",
    "Write a recursive function count_eights that takes a positive integer n and computes the count of the occurrences of 8 as a digit, except that an 8 with another 8 immediately to its left counts double."
   ]
  },
  {
   "cell_type": "code",
   "execution_count": 54,
   "metadata": {},
   "outputs": [],
   "source": [
    "def count_eights(k):\n",
    "    if (k<10):\n",
    "        return 1 if k == 8 else 0\n",
    "    if k % 100 == 88:\n",
    "        return 2 + count_eights(k//10)\n",
    "    elif k % 10 == 8:\n",
    "        return 1 + count_eights(k//10)\n",
    "    else:\n",
    "        return 0 + count_eights(k//10)\n",
    "\n",
    "assert count_eights(8818) == 4\n",
    "assert count_eights(818) == 2\n",
    "assert count_eights(88788) == 6\n",
    "assert count_eights(88888) == 9"
   ]
  },
  {
   "cell_type": "markdown",
   "metadata": {},
   "source": [
    "__Q5: Matches in the box__\n",
    "<br><br>\n",
    "For this problem you need to use Mutual Recursion. If you are not sure how to use it, please refer to section 1.7.2 of our textbook.<br><br>\n",
    "\n",
    " \n",
    "This games a two-player game. There are m matches in a box. The players take turns and can remove either one or two matches. The player who takes the last match wins. Your two friends decided to stick to a certain strategy:\n",
    "<br><br>\n",
    "1)  Barack always removes a single match<br>\n",
    "2)  Donald removes one match if an odd number of matches is in the box, and two matches otherwise \n",
    "<br><br>\n",
    "Assume that there are m matches and Barack goes first, who wins the game? \n",
    "<br><br>\n",
    "Output: You are expected to return one of the following strings, verbatim:<br>\n",
    "\"Donald wins the game\"<br>\n",
    "\"Barack wins the game\"<br>"
   ]
  },
  {
   "cell_type": "code",
   "execution_count": 62,
   "metadata": {},
   "outputs": [],
   "source": [
    "def barack(m):\n",
    "    if m == 1:\n",
    "        return \"Barack wins the game\"\n",
    "    else:\n",
    "        return donald(m-1)\n",
    "\n",
    "def donald(m):\n",
    "    if m == 1 or m == 2:\n",
    "        return \"Donald wins the game\"\n",
    "    elif m % 2 == 0:\n",
    "        return barack(m-2)\n",
    "    else:\n",
    "        return barack(m-1)\n",
    "\n",
    "assert barack(3) == 'Donald wins the game'\n",
    "assert barack(1) == 'Barack wins the game'\n"
   ]
  },
  {
   "cell_type": "markdown",
   "metadata": {},
   "source": [
    "__Q6: Mini Parentheses checker__<br><br>\n",
    "\n",
    "Write a recursive function paren_checker, that takes in a string and returns True if it is a nesting of zero or more correct pairs of parentheses, like \"(())\" or \"((()))\". If there are any characters in the expression\n",
    "you should return false, even if the order of the parentheses is correct.<br>\n",
    "<br>\n",
    "Hint: check the first and last characters, and then recursively check what's between them.<br>"
   ]
  },
  {
   "cell_type": "code",
   "execution_count": 8,
   "metadata": {},
   "outputs": [],
   "source": [
    "def paren_checker(string):\n",
    "    if(string == \"\"):\n",
    "        return True\n",
    "    elif(string[0] == \"(\" and string[-1] == \")\"):\n",
    "        return paren_checker(string[1:-1])\n",
    "    else:\n",
    "        return False\n",
    "\n",
    "assert paren_checker(\"()\") == True\n",
    "assert paren_checker(\"()()\") == False\n",
    "assert paren_checker(\"(()))\") == False\n",
    "assert paren_checker(\"((x)))\") ==  False\n",
    "assert paren_checker(\"(())\") == True\n",
    "assert paren_checker(\"((x))\") == False\n",
    "assert paren_checker(\"\") ==   True\n",
    "        "
   ]
  },
  {
   "cell_type": "markdown",
   "metadata": {},
   "source": [
    "__Q7: Make Repeater__<br>\n",
    "Implement a function make_repeater so that make_repeater(f, n)(x) returns f(f(...f(x)...)), where f is applied n times. That is, make_repeater(f, n) returns another function that can then be applied to another argument. For example, make_repeater(square, 3)(42) evaluates to square(square(square(42))). Yes, it makes sense to apply the function zero times! See if you can figure out a reasonable function to return for that case. <br>\n",
    "\n",
    "def make_repeater(f, n):\n",
    "    '''Return the function that computes the nth application of f.\n",
    "\n",
    "    >>> add_three = make_repeater(increment, 3)\n",
    "    >>> add_three(5)\n",
    "    8\n",
    "    >>> make_repeater(triple, 5)(1) # 3 * 3 * 3 * 3 * 3 * 1\n",
    "    243\n",
    "    >>> make_repeater(square, 2)(5) # square(square(5))\n",
    "    625\n",
    "    >>> make_repeater(square, 4)(5) # square(square(square(square(5))))\n",
    "    152587890625\n",
    "    >>> make_repeater(square, 0)(5)\n",
    "    5\n",
    "    '''\n",
    "    # YOUR CODE GOES HERE #"
   ]
  },
  {
   "cell_type": "code",
   "execution_count": 13,
   "metadata": {},
   "outputs": [],
   "source": [
    "from operator import add, mul\n",
    "\n",
    "def square(x):\n",
    "    return x * x\n",
    "def triple(x):\n",
    "    return 3 * x\n",
    "\n",
    "\n",
    "def make_repeater(f, n):\n",
    "    def fn(x):\n",
    "        result = x\n",
    "        for i in range(n):\n",
    "            result = f(result)\n",
    "        return result\n",
    "    return fn\n",
    "\n",
    "assert make_repeater(square, 4)(5) == 152587890625\n",
    "assert make_repeater(square, 0)(5) == 5\n",
    "assert make_repeater(square, 2)(5) == 625\n",
    "assert make_repeater(triple, 5)(1) == 243\n"
   ]
  },
  {
   "cell_type": "markdown",
   "metadata": {},
   "source": [
    "__Q8: War and Peace__ <br>\n",
    "Your challenge for this problem is to create a function dictify that takes in 1 argument: book_name.<br>\n",
    "book_name: the string that is the name of the file to open<br>\n",
    "return: a dictionary containing the count of each length of word in sorted order. Eg. How many words total of length 1, 2, 3...?\n",
    "<br>\n",
    "Your output should look like (we cut out most of the dictionary): {6: 48342, 15: 254, 23: 2}<br>\n",
    "\n",
    "Hints: <br>\n",
    "Read in files using infile = open(filename), make sure that you are in the same directory.<br>\n",
    "Read each line by looping through with a simple for loop<br>\n",
    "Split the lines using line.split(\" \"), to get a list of the words<br>\n",
    "Since the book is long and complex, you might get zero length words (some tabs and spaces). Make sure to filter those out of your dictionary!<br>\n",
    "Your output dictionary should have its keys in sorted order, so {1: xxxx, 2: xxxxx, 3: xxxxx ...}<br>"
   ]
  },
  {
   "cell_type": "code",
   "execution_count": 40,
   "metadata": {},
   "outputs": [
    {
     "data": {
      "text/plain": [
       "{1: 14932,\n",
       " 2: 93387,\n",
       " 3: 141594,\n",
       " 4: 97791,\n",
       " 5: 57778,\n",
       " 6: 48342,\n",
       " 7: 42747,\n",
       " 8: 29986,\n",
       " 9: 17731,\n",
       " 10: 11155,\n",
       " 11: 4943,\n",
       " 12: 2986,\n",
       " 13: 1572,\n",
       " 14: 569,\n",
       " 15: 254,\n",
       " 16: 126,\n",
       " 17: 47,\n",
       " 18: 40,\n",
       " 19: 14,\n",
       " 20: 8,\n",
       " 21: 2,\n",
       " 23: 2,\n",
       " 26: 2,\n",
       " 27: 1}"
      ]
     },
     "execution_count": 40,
     "metadata": {},
     "output_type": "execute_result"
    }
   ],
   "source": [
    "def dictify(book_name):    \n",
    "    infile = open(book_name, \"r\") \n",
    "    words = infile.read().split()\n",
    "    infile.close()\n",
    "  \n",
    "    wordCounts = dict()\n",
    "\n",
    "    for i in words:\n",
    "        length = len(i)\n",
    "        if length >0:\n",
    "            if length in wordCounts:\n",
    "                wordCounts[length] = wordCounts[length] +1 \n",
    "            else:\n",
    "                wordCounts[length] = 1\n",
    "            \n",
    "    \n",
    "    sortedCounts = dict()\n",
    "    for key in sorted(wordCounts):\n",
    "        sortedCounts[key] = wordCounts[key]\n",
    "    \n",
    "    return sortedCounts\n",
    "dictify(\"War_and_Peace_no_punc.txt\")"
   ]
  },
  {
   "cell_type": "markdown",
   "metadata": {},
   "source": [
    "__Q9: War and Peace. Part 2__ <br>\n",
    "Your challenge for this problem is to create a function process_book that takes in 2 arguments: book_name and mode.<br>\n",
    "book_name: the string that is the name of the file to open<br>\n",
    "mode: a string that is either \"average\" or \"median\"<br>\n",
    "return: the \"average\" word length in the book or the \"median\" word length in the file, depending on the second argument.<br>\n",
    "Hint: We got a median word length of 4 for War and Peace.<br>"
   ]
  },
  {
   "cell_type": "code",
   "execution_count": 64,
   "metadata": {},
   "outputs": [
    {
     "name": "stdout",
     "output_type": "stream",
     "text": [
      "['hello', 'how', 'are', 'you', 'hello', 'nice', 'to', 'meet', 'you']\n",
      "{2: 1, 3: 4, 4: 2, 5: 2}\n"
     ]
    },
    {
     "data": {
      "text/plain": [
       "3.5555555555555554"
      ]
     },
     "execution_count": 64,
     "metadata": {},
     "output_type": "execute_result"
    }
   ],
   "source": [
    "def process_book(book_name, mode):\n",
    "    infile = open(book_name, \"r\") \n",
    "    words = infile.read().split()\n",
    "    infile.close()\n",
    "    print(words)\n",
    "    \n",
    "    wordCounts = dict()\n",
    "\n",
    "    for i in words:\n",
    "        length = len(i)\n",
    "        if length >0:\n",
    "            if length in wordCounts:\n",
    "                wordCounts[length] = wordCounts[length] +1 \n",
    "            else:\n",
    "                wordCounts[length] = 1\n",
    "            \n",
    "    sortedCounts = dict()\n",
    "    for key in sorted(wordCounts):\n",
    "        sortedCounts[key] = wordCounts[key]\n",
    "    \n",
    "    totalCharacters = 0\n",
    "    totalWords = 0\n",
    "    \n",
    "    for key in sortedCounts:\n",
    "            totalCharacters += int(key)* int(sortedCounts[key])\n",
    "            totalWords += int(sortedCounts[key])\n",
    "    print(sortedCounts)       \n",
    "    if mode == \"average\":\n",
    "        return totalCharacters/totalWords\n",
    "    \n",
    "                \n",
    "        \n",
    "\n",
    "process_book(\"warpeace.txt\", \"average\")"
   ]
  },
  {
   "cell_type": "code",
   "execution_count": null,
   "metadata": {},
   "outputs": [],
   "source": []
  }
 ],
 "metadata": {
  "kernelspec": {
   "display_name": "Python 3.6",
   "language": "python",
   "name": "python36"
  },
  "language_info": {
   "codemirror_mode": {
    "name": "ipython",
    "version": 3
   },
   "file_extension": ".py",
   "mimetype": "text/x-python",
   "name": "python",
   "nbconvert_exporter": "python",
   "pygments_lexer": "ipython3",
   "version": "3.6.3"
  }
 },
 "nbformat": 4,
 "nbformat_minor": 2
}
